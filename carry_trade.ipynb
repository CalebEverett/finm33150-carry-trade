{
 "cells": [
  {
   "cell_type": "markdown",
   "metadata": {},
   "source": [
    "# Carry Trade"
   ]
  },
  {
   "cell_type": "markdown",
   "metadata": {},
   "source": [
    "## Imports"
   ]
  },
  {
   "cell_type": "code",
   "execution_count": 2,
   "metadata": {},
   "outputs": [],
   "source": [
    "# <include-carry_trade/utils.py>"
   ]
  },
  {
   "cell_type": "code",
   "execution_count": 3,
   "metadata": {},
   "outputs": [],
   "source": [
    "# <imports>\n",
    "import pandas as pd\n",
    "import plotly.io as pio\n",
    "\n",
    "from carry_trade import utils\n",
    "\n",
    "pd.options.plotting.backend = \"plotly\"\n",
    "pio.templates.default = \"none\""
   ]
  },
  {
   "cell_type": "markdown",
   "metadata": {},
   "source": [
    "## Summary"
   ]
  },
  {
   "cell_type": "markdown",
   "metadata": {},
   "source": [
    "### Beginning of the Week\n",
    "\n",
    "1. Borrow $8MM USD notional JPY\n",
    "2. Exchange $2MM USD for JPY\n",
    "3. Exchange $10MM USD notional JPY for Thai Baht\n",
    "4. Buy $10MM USD notional Thai Government Bonds\n",
    "\n",
    "### End of the Week\n",
    "\n",
    "1. Sell Thai Government Bonds\n",
    "2. Exchange Thai Bhat for JPY\n",
    "3. Repay JPY borrowings\n",
    "4. Convert profit in JPY to USD for accounting"
   ]
  },
  {
   "cell_type": "markdown",
   "metadata": {},
   "source": [
    "Thai Baht YC/THA"
   ]
  },
  {
   "cell_type": "markdown",
   "metadata": {},
   "source": [
    "For US"
   ]
  },
  {
   "cell_type": "code",
   "execution_count": 4,
   "metadata": {},
   "outputs": [],
   "source": [
    "start_date = \"2014-12-01\"\n",
    "tickers = [\"THA\", \"ROU\", \"JPN\", \"IDN\"]\n",
    "currencies = [\"THB\", \"RON\", \"JPY\", \"IDR\"]"
   ]
  },
  {
   "cell_type": "code",
   "execution_count": 5,
   "metadata": {},
   "outputs": [],
   "source": [
    "if False:\n",
    "    ticker = tickers[3]\n",
    "    data = utils.fetch_ticker(ticker, database_code=\"YC\").to_csv(f\"df_{ticker}.csv\", index=False)\n",
    "\n",
    "    currency = currencies[3]\n",
    "    (utils.fetch_ticker(currency, database_code=\"CUR\", query_params={\"start_date\": start_date})\n",
    "    .to_csv(f\"df_fx_{currency}.csv\", index=False))"
   ]
  },
  {
   "cell_type": "code",
   "execution_count": 6,
   "metadata": {},
   "outputs": [],
   "source": [
    "dfs_yc = {t: pd.read_csv(f\"data/df_{t}.csv\") for t in tickers}\n",
    "dfs_fx = {c: pd.read_csv(f\"data/df_fx_{c}.csv\") for c in currencies}"
   ]
  },
  {
   "cell_type": "code",
   "execution_count": 19,
   "metadata": {},
   "outputs": [
    {
     "data": {
      "application/vnd.plotly.v1+json": {
       "config": {
        "plotlyServerURL": "https://plot.ly"
       },
       "data": [
        {
         "hovertemplate": "variable=JPN<br>Tenor=%{x}<br>value=%{y}<extra></extra>",
         "legendgroup": "JPN",
         "line": {
          "color": "#1F77B4",
          "dash": "solid"
         },
         "mode": "lines",
         "name": "JPN",
         "orientation": "v",
         "showlegend": true,
         "type": "scatter",
         "x": [
          1,
          2,
          3,
          4,
          5,
          6,
          7,
          8,
          9,
          10
         ],
         "xaxis": "x",
         "y": [
          0.01,
          0.007,
          0.015,
          0.049,
          0.102,
          0.127,
          0.196,
          0.282,
          0.359,
          0.436
         ],
         "yaxis": "y"
        },
        {
         "hovertemplate": "variable=IDN<br>Tenor=%{x}<br>value=%{y}<extra></extra>",
         "legendgroup": "IDN",
         "line": {
          "color": "#FF7F0E",
          "dash": "solid"
         },
         "mode": "lines",
         "name": "IDN",
         "orientation": "v",
         "showlegend": true,
         "type": "scatter",
         "x": [
          1,
          2,
          3,
          4,
          5,
          6,
          7,
          8,
          9,
          10
         ],
         "xaxis": "x",
         "y": [
          6.617,
          7.281,
          7.549,
          7.618,
          7.638,
          7.682,
          7.71,
          7.719,
          7.719,
          7.692
         ],
         "yaxis": "y"
        }
       ],
       "layout": {
        "legend": {
         "title": {
          "text": "variable"
         },
         "tracegroupgap": 0
        },
        "margin": {
         "t": 60
        },
        "template": {
         "data": {
          "scatter": [
           {
            "type": "scatter"
           }
          ]
         }
        },
        "xaxis": {
         "anchor": "y",
         "domain": [
          0,
          1
         ],
         "title": {
          "text": "Tenor"
         }
        },
        "yaxis": {
         "anchor": "x",
         "domain": [
          0,
          1
         ],
         "title": {
          "text": "value"
         }
        }
       }
      },
      "text/html": "<div>                            <div id=\"4d3ffd92-c5f7-4475-a4d0-a646f03517a2\" class=\"plotly-graph-div\" style=\"height:525px; width:100%;\"></div>            <script type=\"text/javascript\">                require([\"plotly\"], function(Plotly) {                    window.PLOTLYENV=window.PLOTLYENV || {};                                    if (document.getElementById(\"4d3ffd92-c5f7-4475-a4d0-a646f03517a2\")) {                    Plotly.newPlot(                        \"4d3ffd92-c5f7-4475-a4d0-a646f03517a2\",                        [{\"hovertemplate\": \"variable=JPN<br>Tenor=%{x}<br>value=%{y}<extra></extra>\", \"legendgroup\": \"JPN\", \"line\": {\"color\": \"#1F77B4\", \"dash\": \"solid\"}, \"mode\": \"lines\", \"name\": \"JPN\", \"orientation\": \"v\", \"showlegend\": true, \"type\": \"scatter\", \"x\": [1, 2, 3, 4, 5, 6, 7, 8, 9, 10], \"xaxis\": \"x\", \"y\": [0.01, 0.007, 0.015, 0.049, 0.102, 0.127, 0.196, 0.282, 0.359, 0.436], \"yaxis\": \"y\"}, {\"hovertemplate\": \"variable=IDN<br>Tenor=%{x}<br>value=%{y}<extra></extra>\", \"legendgroup\": \"IDN\", \"line\": {\"color\": \"#FF7F0E\", \"dash\": \"solid\"}, \"mode\": \"lines\", \"name\": \"IDN\", \"orientation\": \"v\", \"showlegend\": true, \"type\": \"scatter\", \"x\": [1, 2, 3, 4, 5, 6, 7, 8, 9, 10], \"xaxis\": \"x\", \"y\": [6.617, 7.281, 7.549, 7.618, 7.638, 7.682, 7.71, 7.719, 7.719, 7.692], \"yaxis\": \"y\"}],                        {\"legend\": {\"title\": {\"text\": \"variable\"}, \"tracegroupgap\": 0}, \"margin\": {\"t\": 60}, \"template\": {\"data\": {\"scatter\": [{\"type\": \"scatter\"}]}}, \"xaxis\": {\"anchor\": \"y\", \"domain\": [0.0, 1.0], \"title\": {\"text\": \"Tenor\"}}, \"yaxis\": {\"anchor\": \"x\", \"domain\": [0.0, 1.0], \"title\": {\"text\": \"value\"}}},                        {\"responsive\": true}                    ).then(function(){\n                            \nvar gd = document.getElementById('4d3ffd92-c5f7-4475-a4d0-a646f03517a2');\nvar x = new MutationObserver(function (mutations, observer) {{\n        var display = window.getComputedStyle(gd).display;\n        if (!display || display === 'none') {{\n            console.log([gd, 'removed!']);\n            Plotly.purge(gd);\n            observer.disconnect();\n        }}\n}});\n\n// Listen for the removal of the full notebook cells\nvar notebookContainer = gd.closest('#notebook-container');\nif (notebookContainer) {{\n    x.observe(notebookContainer, {childList: true});\n}}\n\n// Listen for the clearing of the current output cell\nvar outputEl = gd.closest('.output');\nif (outputEl) {{\n    x.observe(outputEl, {childList: true});\n}}\n\n                        })                };                });            </script>        </div>"
     },
     "metadata": {},
     "output_type": "display_data"
    }
   ],
   "source": [
    "spot_curves = pd.DataFrame({\"JPN\": dfs_yc[tickers[2]].set_index(\"date\").loc[start_date] .iloc[:10],\n",
    "\"IDN\": dfs_yc[tickers[3]].set_index(\"date\").loc[start_date] .iloc[:10]\n",
    "})\n",
    "spot_curves.index = spot_curves.index.map(lambda x: x.split(\"-\")[0]).astype(int)\n",
    "spot_curves.index.name=\"Tenor\"\n",
    "spot_curves = spot_curves.astype(float)\n",
    "spot_curves.plot()"
   ]
  },
  {
   "cell_type": "code",
   "execution_count": 21,
   "metadata": {},
   "outputs": [
    {
     "data": {
      "text/html": "<div>\n<style scoped>\n    .dataframe tbody tr th:only-of-type {\n        vertical-align: middle;\n    }\n\n    .dataframe tbody tr th {\n        vertical-align: top;\n    }\n\n    .dataframe thead th {\n        text-align: right;\n    }\n</style>\n<table border=\"1\" class=\"dataframe\">\n  <thead>\n    <tr style=\"text-align: right;\">\n      <th></th>\n      <th>JPN</th>\n      <th>IDN</th>\n    </tr>\n    <tr>\n      <th>Tenor</th>\n      <th></th>\n      <th></th>\n    </tr>\n  </thead>\n  <tbody>\n    <tr>\n      <th>1</th>\n      <td>0.010</td>\n      <td>6.617</td>\n    </tr>\n    <tr>\n      <th>2</th>\n      <td>0.007</td>\n      <td>7.281</td>\n    </tr>\n    <tr>\n      <th>3</th>\n      <td>0.015</td>\n      <td>7.549</td>\n    </tr>\n    <tr>\n      <th>4</th>\n      <td>0.049</td>\n      <td>7.618</td>\n    </tr>\n    <tr>\n      <th>5</th>\n      <td>0.102</td>\n      <td>7.638</td>\n    </tr>\n    <tr>\n      <th>6</th>\n      <td>0.127</td>\n      <td>7.682</td>\n    </tr>\n    <tr>\n      <th>7</th>\n      <td>0.196</td>\n      <td>7.710</td>\n    </tr>\n    <tr>\n      <th>8</th>\n      <td>0.282</td>\n      <td>7.719</td>\n    </tr>\n    <tr>\n      <th>9</th>\n      <td>0.359</td>\n      <td>7.719</td>\n    </tr>\n    <tr>\n      <th>10</th>\n      <td>0.436</td>\n      <td>7.692</td>\n    </tr>\n  </tbody>\n</table>\n</div>",
      "text/plain": "         JPN    IDN\nTenor              \n1      0.010  6.617\n2      0.007  7.281\n3      0.015  7.549\n4      0.049  7.618\n5      0.102  7.638\n6      0.127  7.682\n7      0.196  7.710\n8      0.282  7.719\n9      0.359  7.719\n10     0.436  7.692"
     },
     "execution_count": 21,
     "metadata": {},
     "output_type": "execute_result"
    }
   ],
   "source": [
    "spot_curves"
   ]
  },
  {
   "cell_type": "code",
   "execution_count": 20,
   "metadata": {},
   "outputs": [
    {
     "name": "stderr",
     "output_type": "stream",
     "text": [
      "/home/caleb/projects/FINM33150/carry_trade/carry_trade/utils.py:95: RuntimeWarning:\n",
      "\n",
      "invalid value encountered in log\n",
      "\n"
     ]
    },
    {
     "data": {
      "text/html": "<div>\n<style scoped>\n    .dataframe tbody tr th:only-of-type {\n        vertical-align: middle;\n    }\n\n    .dataframe tbody tr th {\n        vertical-align: top;\n    }\n\n    .dataframe thead th {\n        text-align: right;\n    }\n</style>\n<table border=\"1\" class=\"dataframe\">\n  <thead>\n    <tr style=\"text-align: right;\">\n      <th></th>\n      <th>JPN</th>\n      <th>IDN</th>\n    </tr>\n    <tr>\n      <th>Tenor</th>\n      <th></th>\n      <th></th>\n    </tr>\n  </thead>\n  <tbody>\n    <tr>\n      <th>1</th>\n      <td>0.009975</td>\n      <td>1.589555</td>\n    </tr>\n    <tr>\n      <th>2</th>\n      <td>0.006976</td>\n      <td>NaN</td>\n    </tr>\n    <tr>\n      <th>3</th>\n      <td>0.015053</td>\n      <td>NaN</td>\n    </tr>\n    <tr>\n      <th>4</th>\n      <td>0.051474</td>\n      <td>NaN</td>\n    </tr>\n    <tr>\n      <th>5</th>\n      <td>0.120023</td>\n      <td>NaN</td>\n    </tr>\n    <tr>\n      <th>6</th>\n      <td>0.159781</td>\n      <td>NaN</td>\n    </tr>\n    <tr>\n      <th>7</th>\n      <td>0.559650</td>\n      <td>NaN</td>\n    </tr>\n    <tr>\n      <th>8</th>\n      <td>NaN</td>\n      <td>NaN</td>\n    </tr>\n    <tr>\n      <th>9</th>\n      <td>NaN</td>\n      <td>NaN</td>\n    </tr>\n    <tr>\n      <th>10</th>\n      <td>NaN</td>\n      <td>NaN</td>\n    </tr>\n  </tbody>\n</table>\n</div>",
      "text/plain": "            JPN       IDN\nTenor                    \n1      0.009975  1.589555\n2      0.006976       NaN\n3      0.015053       NaN\n4      0.051474       NaN\n5      0.120023       NaN\n6      0.159781       NaN\n7      0.559650       NaN\n8           NaN       NaN\n9           NaN       NaN\n10          NaN       NaN"
     },
     "execution_count": 20,
     "metadata": {},
     "output_type": "execute_result"
    }
   ],
   "source": [
    "utils.compute_zcb_curve(spot_curves)"
   ]
  },
  {
   "cell_type": "code",
   "execution_count": 44,
   "metadata": {},
   "outputs": [
    {
     "data": {
      "text/html": "<div>\n<style scoped>\n    .dataframe tbody tr th:only-of-type {\n        vertical-align: middle;\n    }\n\n    .dataframe tbody tr th {\n        vertical-align: top;\n    }\n\n    .dataframe thead th {\n        text-align: right;\n    }\n</style>\n<table border=\"1\" class=\"dataframe\">\n  <thead>\n    <tr style=\"text-align: right;\">\n      <th></th>\n      <th>date</th>\n      <th>rate</th>\n      <th>ticker</th>\n    </tr>\n  </thead>\n  <tbody>\n    <tr>\n      <th>0</th>\n      <td>2014-12-01</td>\n      <td>12247.733333</td>\n      <td>IDR</td>\n    </tr>\n    <tr>\n      <th>1</th>\n      <td>2014-12-02</td>\n      <td>12276.100000</td>\n      <td>IDR</td>\n    </tr>\n    <tr>\n      <th>2</th>\n      <td>2014-12-03</td>\n      <td>12311.000000</td>\n      <td>IDR</td>\n    </tr>\n    <tr>\n      <th>3</th>\n      <td>2014-12-04</td>\n      <td>12305.383333</td>\n      <td>IDR</td>\n    </tr>\n    <tr>\n      <th>4</th>\n      <td>2014-12-05</td>\n      <td>12304.266667</td>\n      <td>IDR</td>\n    </tr>\n    <tr>\n      <th>...</th>\n      <td>...</td>\n      <td>...</td>\n      <td>...</td>\n    </tr>\n    <tr>\n      <th>2341</th>\n      <td>2021-04-29</td>\n      <td>14453.027966</td>\n      <td>IDR</td>\n    </tr>\n    <tr>\n      <th>2342</th>\n      <td>2021-04-30</td>\n      <td>14446.650000</td>\n      <td>IDR</td>\n    </tr>\n    <tr>\n      <th>2343</th>\n      <td>2021-05-01</td>\n      <td>14442.700000</td>\n      <td>IDR</td>\n    </tr>\n    <tr>\n      <th>2344</th>\n      <td>2021-05-02</td>\n      <td>14442.700000</td>\n      <td>IDR</td>\n    </tr>\n    <tr>\n      <th>2345</th>\n      <td>2021-05-03</td>\n      <td>14443.591640</td>\n      <td>IDR</td>\n    </tr>\n  </tbody>\n</table>\n<p>2346 rows × 3 columns</p>\n</div>",
      "text/plain": "            date          rate ticker\n0     2014-12-01  12247.733333    IDR\n1     2014-12-02  12276.100000    IDR\n2     2014-12-03  12311.000000    IDR\n3     2014-12-04  12305.383333    IDR\n4     2014-12-05  12304.266667    IDR\n...          ...           ...    ...\n2341  2021-04-29  14453.027966    IDR\n2342  2021-04-30  14446.650000    IDR\n2343  2021-05-01  14442.700000    IDR\n2344  2021-05-02  14442.700000    IDR\n2345  2021-05-03  14443.591640    IDR\n\n[2346 rows x 3 columns]"
     },
     "execution_count": 44,
     "metadata": {},
     "output_type": "execute_result"
    }
   ],
   "source": [
    "dfs_fx[currencies[3]]"
   ]
  },
  {
   "cell_type": "code",
   "execution_count": 23,
   "metadata": {},
   "outputs": [
    {
     "data": {
      "text/plain": "['2014-12-01', '2011-01-10', '1974-09-24', '2014-12-01']"
     },
     "execution_count": 23,
     "metadata": {},
     "output_type": "execute_result"
    }
   ],
   "source": [
    "[dfs[t].date.min() for t in tickers]"
   ]
  },
  {
   "cell_type": "markdown",
   "metadata": {},
   "source": [
    "### USD Thai-Baht"
   ]
  },
  {
   "cell_type": "code",
   "execution_count": 33,
   "metadata": {},
   "outputs": [],
   "source": []
  },
  {
   "cell_type": "code",
   "execution_count": 29,
   "metadata": {},
   "outputs": [
    {
     "data": {
      "text/html": "<div>\n<style scoped>\n    .dataframe tbody tr th:only-of-type {\n        vertical-align: middle;\n    }\n\n    .dataframe tbody tr th {\n        vertical-align: top;\n    }\n\n    .dataframe thead th {\n        text-align: right;\n    }\n</style>\n<table border=\"1\" class=\"dataframe\">\n  <thead>\n    <tr style=\"text-align: right;\">\n      <th></th>\n      <th>date</th>\n      <th>rate</th>\n      <th>ticker</th>\n    </tr>\n  </thead>\n  <tbody>\n    <tr>\n      <th>32</th>\n      <td>2021-04-01</td>\n      <td>110.700571</td>\n      <td>JPY</td>\n    </tr>\n    <tr>\n      <th>31</th>\n      <td>2021-04-02</td>\n      <td>110.601333</td>\n      <td>JPY</td>\n    </tr>\n    <tr>\n      <th>30</th>\n      <td>2021-04-03</td>\n      <td>110.705500</td>\n      <td>JPY</td>\n    </tr>\n    <tr>\n      <th>29</th>\n      <td>2021-04-04</td>\n      <td>110.705500</td>\n      <td>JPY</td>\n    </tr>\n    <tr>\n      <th>28</th>\n      <td>2021-04-05</td>\n      <td>110.647625</td>\n      <td>JPY</td>\n    </tr>\n    <tr>\n      <th>27</th>\n      <td>2021-04-06</td>\n      <td>110.253000</td>\n      <td>JPY</td>\n    </tr>\n    <tr>\n      <th>26</th>\n      <td>2021-04-07</td>\n      <td>109.718400</td>\n      <td>JPY</td>\n    </tr>\n    <tr>\n      <th>25</th>\n      <td>2021-04-08</td>\n      <td>109.670000</td>\n      <td>JPY</td>\n    </tr>\n    <tr>\n      <th>24</th>\n      <td>2021-04-09</td>\n      <td>109.369714</td>\n      <td>JPY</td>\n    </tr>\n    <tr>\n      <th>23</th>\n      <td>2021-04-10</td>\n      <td>109.664996</td>\n      <td>JPY</td>\n    </tr>\n    <tr>\n      <th>22</th>\n      <td>2021-04-11</td>\n      <td>109.660000</td>\n      <td>JPY</td>\n    </tr>\n    <tr>\n      <th>21</th>\n      <td>2021-04-12</td>\n      <td>109.533000</td>\n      <td>JPY</td>\n    </tr>\n    <tr>\n      <th>20</th>\n      <td>2021-04-13</td>\n      <td>109.705667</td>\n      <td>JPY</td>\n    </tr>\n    <tr>\n      <th>19</th>\n      <td>2021-04-14</td>\n      <td>108.950857</td>\n      <td>JPY</td>\n    </tr>\n    <tr>\n      <th>18</th>\n      <td>2021-04-15</td>\n      <td>108.868667</td>\n      <td>JPY</td>\n    </tr>\n    <tr>\n      <th>17</th>\n      <td>2021-04-16</td>\n      <td>108.807357</td>\n      <td>JPY</td>\n    </tr>\n    <tr>\n      <th>16</th>\n      <td>2021-04-17</td>\n      <td>108.784988</td>\n      <td>JPY</td>\n    </tr>\n    <tr>\n      <th>15</th>\n      <td>2021-04-18</td>\n      <td>108.785000</td>\n      <td>JPY</td>\n    </tr>\n    <tr>\n      <th>14</th>\n      <td>2021-04-19</td>\n      <td>108.664500</td>\n      <td>JPY</td>\n    </tr>\n    <tr>\n      <th>13</th>\n      <td>2021-04-20</td>\n      <td>108.158500</td>\n      <td>JPY</td>\n    </tr>\n    <tr>\n      <th>12</th>\n      <td>2021-04-21</td>\n      <td>108.059083</td>\n      <td>JPY</td>\n    </tr>\n    <tr>\n      <th>11</th>\n      <td>2021-04-22</td>\n      <td>107.969531</td>\n      <td>JPY</td>\n    </tr>\n    <tr>\n      <th>10</th>\n      <td>2021-04-23</td>\n      <td>107.902000</td>\n      <td>JPY</td>\n    </tr>\n    <tr>\n      <th>9</th>\n      <td>2021-04-24</td>\n      <td>107.924988</td>\n      <td>JPY</td>\n    </tr>\n    <tr>\n      <th>8</th>\n      <td>2021-04-25</td>\n      <td>107.905000</td>\n      <td>JPY</td>\n    </tr>\n    <tr>\n      <th>7</th>\n      <td>2021-04-26</td>\n      <td>107.733000</td>\n      <td>JPY</td>\n    </tr>\n    <tr>\n      <th>6</th>\n      <td>2021-04-27</td>\n      <td>108.222000</td>\n      <td>JPY</td>\n    </tr>\n    <tr>\n      <th>5</th>\n      <td>2021-04-28</td>\n      <td>108.851167</td>\n      <td>JPY</td>\n    </tr>\n    <tr>\n      <th>4</th>\n      <td>2021-04-29</td>\n      <td>108.579500</td>\n      <td>JPY</td>\n    </tr>\n    <tr>\n      <th>3</th>\n      <td>2021-04-30</td>\n      <td>108.806714</td>\n      <td>JPY</td>\n    </tr>\n    <tr>\n      <th>2</th>\n      <td>2021-05-01</td>\n      <td>109.348539</td>\n      <td>JPY</td>\n    </tr>\n    <tr>\n      <th>1</th>\n      <td>2021-05-02</td>\n      <td>109.300500</td>\n      <td>JPY</td>\n    </tr>\n    <tr>\n      <th>0</th>\n      <td>2021-05-03</td>\n      <td>109.582833</td>\n      <td>JPY</td>\n    </tr>\n  </tbody>\n</table>\n</div>",
      "text/plain": "          date        rate ticker\n32  2021-04-01  110.700571    JPY\n31  2021-04-02  110.601333    JPY\n30  2021-04-03  110.705500    JPY\n29  2021-04-04  110.705500    JPY\n28  2021-04-05  110.647625    JPY\n27  2021-04-06  110.253000    JPY\n26  2021-04-07  109.718400    JPY\n25  2021-04-08  109.670000    JPY\n24  2021-04-09  109.369714    JPY\n23  2021-04-10  109.664996    JPY\n22  2021-04-11  109.660000    JPY\n21  2021-04-12  109.533000    JPY\n20  2021-04-13  109.705667    JPY\n19  2021-04-14  108.950857    JPY\n18  2021-04-15  108.868667    JPY\n17  2021-04-16  108.807357    JPY\n16  2021-04-17  108.784988    JPY\n15  2021-04-18  108.785000    JPY\n14  2021-04-19  108.664500    JPY\n13  2021-04-20  108.158500    JPY\n12  2021-04-21  108.059083    JPY\n11  2021-04-22  107.969531    JPY\n10  2021-04-23  107.902000    JPY\n9   2021-04-24  107.924988    JPY\n8   2021-04-25  107.905000    JPY\n7   2021-04-26  107.733000    JPY\n6   2021-04-27  108.222000    JPY\n5   2021-04-28  108.851167    JPY\n4   2021-04-29  108.579500    JPY\n3   2021-04-30  108.806714    JPY\n2   2021-05-01  109.348539    JPY\n1   2021-05-02  109.300500    JPY\n0   2021-05-03  109.582833    JPY"
     },
     "execution_count": 29,
     "metadata": {},
     "output_type": "execute_result"
    }
   ],
   "source": [
    "currency_data"
   ]
  }
 ],
 "metadata": {
  "kernelspec": {
   "display_name": "Python 3.8.5 64-bit ('carry_trade-dUNJ7arw': pipenv)",
   "name": "python385jvsc74a57bd0aac822e7f1c7762932710762bae1fd10c6b98aa296e5c76897d2f6512bdd387c"
  },
  "language_info": {
   "codemirror_mode": {
    "name": "ipython",
    "version": 3
   },
   "file_extension": ".py",
   "mimetype": "text/x-python",
   "name": "python",
   "nbconvert_exporter": "python",
   "pygments_lexer": "ipython3",
   "version": "3.8.5"
  },
  "orig_nbformat": 2
 },
 "nbformat": 4,
 "nbformat_minor": 2
}