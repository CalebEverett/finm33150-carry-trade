{
 "cells": [
  {
   "cell_type": "markdown",
   "metadata": {},
   "source": [
    "# Carry Trade"
   ]
  },
  {
   "cell_type": "markdown",
   "metadata": {},
   "source": [
    "## Imports"
   ]
  },
  {
   "cell_type": "code",
   "execution_count": 34,
   "metadata": {},
   "outputs": [],
   "source": [
    "# <include-carry_trade/utils.py>"
   ]
  },
  {
   "cell_type": "code",
   "execution_count": 4,
   "metadata": {},
   "outputs": [],
   "source": [
    "# <imports>\n",
    "import pandas as pd\n",
    "import plotly.io as pio\n",
    "\n",
    "from carry_trade import utils\n",
    "\n",
    "pd.options.plotting.backend = \"plotly\"\n",
    "pio.templates.default = \"none\""
   ]
  },
  {
   "cell_type": "markdown",
   "metadata": {},
   "source": [
    "## Summary"
   ]
  },
  {
   "cell_type": "markdown",
   "metadata": {},
   "source": [
    "### Beginning of the Week\n",
    "\n",
    "1. Borrow $8MM USD notional JPY\n",
    "2. Exchange $2MM USD for JPY\n",
    "3. Exchange $10MM USD notional JPY for Thai Baht\n",
    "4. Buy $10MM USD notional Thai Government Bonds\n",
    "\n",
    "### End of the Week\n",
    "\n",
    "1. Sell Thai Government Bonds\n",
    "2. Exchange Thai Bhat for JPY\n",
    "3. Repay JPY borrowings\n",
    "4. Convert profit in JPY to USD for accounting"
   ]
  },
  {
   "cell_type": "markdown",
   "metadata": {},
   "source": [
    "Thai Baht YC/THA"
   ]
  },
  {
   "cell_type": "markdown",
   "metadata": {},
   "source": [
    "For US"
   ]
  },
  {
   "cell_type": "code",
   "execution_count": 38,
   "metadata": {},
   "outputs": [],
   "source": [
    "start_date = \"2014-12-01\"\n",
    "tickers = [\"THA\", \"ROU\", \"JPN\", \"IDN\"]\n",
    "currencies = [\"THB\", \"RON\", \"JPY\", \"IDR\"]"
   ]
  },
  {
   "cell_type": "code",
   "execution_count": 39,
   "metadata": {},
   "outputs": [],
   "source": [
    "if False:\n",
    "    ticker = tickers[3]\n",
    "    data = utils.fetch_ticker(ticker, database_code=\"YC\").to_csv(f\"df_{ticker}.csv\", index=False)\n",
    "\n",
    "    currency = currencies[3]\n",
    "    (utils.fetch_ticker(currency, database_code=\"CUR\", query_params={\"start_date\": start_date})\n",
    "    .to_csv(f\"df_fx_{currency}.csv\", index=False))"
   ]
  },
  {
   "cell_type": "code",
   "execution_count": 40,
   "metadata": {},
   "outputs": [],
   "source": [
    "dfs_yc = {t: pd.read_csv(f\"df_{t}.csv\") for t in tickers}\n",
    "dfs_fx = {c: pd.read_csv(f\"df_fx_{c}.csv\") for c in currencies}"
   ]
  },
  {
   "cell_type": "code",
   "execution_count": 44,
   "metadata": {},
   "outputs": [
    {
     "data": {
      "text/html": "<div>\n<style scoped>\n    .dataframe tbody tr th:only-of-type {\n        vertical-align: middle;\n    }\n\n    .dataframe tbody tr th {\n        vertical-align: top;\n    }\n\n    .dataframe thead th {\n        text-align: right;\n    }\n</style>\n<table border=\"1\" class=\"dataframe\">\n  <thead>\n    <tr style=\"text-align: right;\">\n      <th></th>\n      <th>date</th>\n      <th>rate</th>\n      <th>ticker</th>\n    </tr>\n  </thead>\n  <tbody>\n    <tr>\n      <th>0</th>\n      <td>2014-12-01</td>\n      <td>12247.733333</td>\n      <td>IDR</td>\n    </tr>\n    <tr>\n      <th>1</th>\n      <td>2014-12-02</td>\n      <td>12276.100000</td>\n      <td>IDR</td>\n    </tr>\n    <tr>\n      <th>2</th>\n      <td>2014-12-03</td>\n      <td>12311.000000</td>\n      <td>IDR</td>\n    </tr>\n    <tr>\n      <th>3</th>\n      <td>2014-12-04</td>\n      <td>12305.383333</td>\n      <td>IDR</td>\n    </tr>\n    <tr>\n      <th>4</th>\n      <td>2014-12-05</td>\n      <td>12304.266667</td>\n      <td>IDR</td>\n    </tr>\n    <tr>\n      <th>...</th>\n      <td>...</td>\n      <td>...</td>\n      <td>...</td>\n    </tr>\n    <tr>\n      <th>2341</th>\n      <td>2021-04-29</td>\n      <td>14453.027966</td>\n      <td>IDR</td>\n    </tr>\n    <tr>\n      <th>2342</th>\n      <td>2021-04-30</td>\n      <td>14446.650000</td>\n      <td>IDR</td>\n    </tr>\n    <tr>\n      <th>2343</th>\n      <td>2021-05-01</td>\n      <td>14442.700000</td>\n      <td>IDR</td>\n    </tr>\n    <tr>\n      <th>2344</th>\n      <td>2021-05-02</td>\n      <td>14442.700000</td>\n      <td>IDR</td>\n    </tr>\n    <tr>\n      <th>2345</th>\n      <td>2021-05-03</td>\n      <td>14443.591640</td>\n      <td>IDR</td>\n    </tr>\n  </tbody>\n</table>\n<p>2346 rows × 3 columns</p>\n</div>",
      "text/plain": "            date          rate ticker\n0     2014-12-01  12247.733333    IDR\n1     2014-12-02  12276.100000    IDR\n2     2014-12-03  12311.000000    IDR\n3     2014-12-04  12305.383333    IDR\n4     2014-12-05  12304.266667    IDR\n...          ...           ...    ...\n2341  2021-04-29  14453.027966    IDR\n2342  2021-04-30  14446.650000    IDR\n2343  2021-05-01  14442.700000    IDR\n2344  2021-05-02  14442.700000    IDR\n2345  2021-05-03  14443.591640    IDR\n\n[2346 rows x 3 columns]"
     },
     "execution_count": 44,
     "metadata": {},
     "output_type": "execute_result"
    }
   ],
   "source": [
    "dfs_fx[currencies[3]]"
   ]
  },
  {
   "cell_type": "code",
   "execution_count": 23,
   "metadata": {},
   "outputs": [
    {
     "data": {
      "text/plain": "['2014-12-01', '2011-01-10', '1974-09-24', '2014-12-01']"
     },
     "execution_count": 23,
     "metadata": {},
     "output_type": "execute_result"
    }
   ],
   "source": [
    "[dfs[t].date.min() for t in tickers]"
   ]
  },
  {
   "cell_type": "markdown",
   "metadata": {},
   "source": [
    "### USD Thai-Baht"
   ]
  },
  {
   "cell_type": "code",
   "execution_count": 33,
   "metadata": {},
   "outputs": [],
   "source": []
  },
  {
   "cell_type": "code",
   "execution_count": 29,
   "metadata": {},
   "outputs": [
    {
     "data": {
      "text/html": "<div>\n<style scoped>\n    .dataframe tbody tr th:only-of-type {\n        vertical-align: middle;\n    }\n\n    .dataframe tbody tr th {\n        vertical-align: top;\n    }\n\n    .dataframe thead th {\n        text-align: right;\n    }\n</style>\n<table border=\"1\" class=\"dataframe\">\n  <thead>\n    <tr style=\"text-align: right;\">\n      <th></th>\n      <th>date</th>\n      <th>rate</th>\n      <th>ticker</th>\n    </tr>\n  </thead>\n  <tbody>\n    <tr>\n      <th>32</th>\n      <td>2021-04-01</td>\n      <td>110.700571</td>\n      <td>JPY</td>\n    </tr>\n    <tr>\n      <th>31</th>\n      <td>2021-04-02</td>\n      <td>110.601333</td>\n      <td>JPY</td>\n    </tr>\n    <tr>\n      <th>30</th>\n      <td>2021-04-03</td>\n      <td>110.705500</td>\n      <td>JPY</td>\n    </tr>\n    <tr>\n      <th>29</th>\n      <td>2021-04-04</td>\n      <td>110.705500</td>\n      <td>JPY</td>\n    </tr>\n    <tr>\n      <th>28</th>\n      <td>2021-04-05</td>\n      <td>110.647625</td>\n      <td>JPY</td>\n    </tr>\n    <tr>\n      <th>27</th>\n      <td>2021-04-06</td>\n      <td>110.253000</td>\n      <td>JPY</td>\n    </tr>\n    <tr>\n      <th>26</th>\n      <td>2021-04-07</td>\n      <td>109.718400</td>\n      <td>JPY</td>\n    </tr>\n    <tr>\n      <th>25</th>\n      <td>2021-04-08</td>\n      <td>109.670000</td>\n      <td>JPY</td>\n    </tr>\n    <tr>\n      <th>24</th>\n      <td>2021-04-09</td>\n      <td>109.369714</td>\n      <td>JPY</td>\n    </tr>\n    <tr>\n      <th>23</th>\n      <td>2021-04-10</td>\n      <td>109.664996</td>\n      <td>JPY</td>\n    </tr>\n    <tr>\n      <th>22</th>\n      <td>2021-04-11</td>\n      <td>109.660000</td>\n      <td>JPY</td>\n    </tr>\n    <tr>\n      <th>21</th>\n      <td>2021-04-12</td>\n      <td>109.533000</td>\n      <td>JPY</td>\n    </tr>\n    <tr>\n      <th>20</th>\n      <td>2021-04-13</td>\n      <td>109.705667</td>\n      <td>JPY</td>\n    </tr>\n    <tr>\n      <th>19</th>\n      <td>2021-04-14</td>\n      <td>108.950857</td>\n      <td>JPY</td>\n    </tr>\n    <tr>\n      <th>18</th>\n      <td>2021-04-15</td>\n      <td>108.868667</td>\n      <td>JPY</td>\n    </tr>\n    <tr>\n      <th>17</th>\n      <td>2021-04-16</td>\n      <td>108.807357</td>\n      <td>JPY</td>\n    </tr>\n    <tr>\n      <th>16</th>\n      <td>2021-04-17</td>\n      <td>108.784988</td>\n      <td>JPY</td>\n    </tr>\n    <tr>\n      <th>15</th>\n      <td>2021-04-18</td>\n      <td>108.785000</td>\n      <td>JPY</td>\n    </tr>\n    <tr>\n      <th>14</th>\n      <td>2021-04-19</td>\n      <td>108.664500</td>\n      <td>JPY</td>\n    </tr>\n    <tr>\n      <th>13</th>\n      <td>2021-04-20</td>\n      <td>108.158500</td>\n      <td>JPY</td>\n    </tr>\n    <tr>\n      <th>12</th>\n      <td>2021-04-21</td>\n      <td>108.059083</td>\n      <td>JPY</td>\n    </tr>\n    <tr>\n      <th>11</th>\n      <td>2021-04-22</td>\n      <td>107.969531</td>\n      <td>JPY</td>\n    </tr>\n    <tr>\n      <th>10</th>\n      <td>2021-04-23</td>\n      <td>107.902000</td>\n      <td>JPY</td>\n    </tr>\n    <tr>\n      <th>9</th>\n      <td>2021-04-24</td>\n      <td>107.924988</td>\n      <td>JPY</td>\n    </tr>\n    <tr>\n      <th>8</th>\n      <td>2021-04-25</td>\n      <td>107.905000</td>\n      <td>JPY</td>\n    </tr>\n    <tr>\n      <th>7</th>\n      <td>2021-04-26</td>\n      <td>107.733000</td>\n      <td>JPY</td>\n    </tr>\n    <tr>\n      <th>6</th>\n      <td>2021-04-27</td>\n      <td>108.222000</td>\n      <td>JPY</td>\n    </tr>\n    <tr>\n      <th>5</th>\n      <td>2021-04-28</td>\n      <td>108.851167</td>\n      <td>JPY</td>\n    </tr>\n    <tr>\n      <th>4</th>\n      <td>2021-04-29</td>\n      <td>108.579500</td>\n      <td>JPY</td>\n    </tr>\n    <tr>\n      <th>3</th>\n      <td>2021-04-30</td>\n      <td>108.806714</td>\n      <td>JPY</td>\n    </tr>\n    <tr>\n      <th>2</th>\n      <td>2021-05-01</td>\n      <td>109.348539</td>\n      <td>JPY</td>\n    </tr>\n    <tr>\n      <th>1</th>\n      <td>2021-05-02</td>\n      <td>109.300500</td>\n      <td>JPY</td>\n    </tr>\n    <tr>\n      <th>0</th>\n      <td>2021-05-03</td>\n      <td>109.582833</td>\n      <td>JPY</td>\n    </tr>\n  </tbody>\n</table>\n</div>",
      "text/plain": "          date        rate ticker\n32  2021-04-01  110.700571    JPY\n31  2021-04-02  110.601333    JPY\n30  2021-04-03  110.705500    JPY\n29  2021-04-04  110.705500    JPY\n28  2021-04-05  110.647625    JPY\n27  2021-04-06  110.253000    JPY\n26  2021-04-07  109.718400    JPY\n25  2021-04-08  109.670000    JPY\n24  2021-04-09  109.369714    JPY\n23  2021-04-10  109.664996    JPY\n22  2021-04-11  109.660000    JPY\n21  2021-04-12  109.533000    JPY\n20  2021-04-13  109.705667    JPY\n19  2021-04-14  108.950857    JPY\n18  2021-04-15  108.868667    JPY\n17  2021-04-16  108.807357    JPY\n16  2021-04-17  108.784988    JPY\n15  2021-04-18  108.785000    JPY\n14  2021-04-19  108.664500    JPY\n13  2021-04-20  108.158500    JPY\n12  2021-04-21  108.059083    JPY\n11  2021-04-22  107.969531    JPY\n10  2021-04-23  107.902000    JPY\n9   2021-04-24  107.924988    JPY\n8   2021-04-25  107.905000    JPY\n7   2021-04-26  107.733000    JPY\n6   2021-04-27  108.222000    JPY\n5   2021-04-28  108.851167    JPY\n4   2021-04-29  108.579500    JPY\n3   2021-04-30  108.806714    JPY\n2   2021-05-01  109.348539    JPY\n1   2021-05-02  109.300500    JPY\n0   2021-05-03  109.582833    JPY"
     },
     "execution_count": 29,
     "metadata": {},
     "output_type": "execute_result"
    }
   ],
   "source": [
    "currency_data"
   ]
  }
 ],
 "metadata": {
  "kernelspec": {
   "display_name": "Python 3.8.5 64-bit ('carry_trade-dUNJ7arw': pipenv)",
   "name": "python385jvsc74a57bd0aac822e7f1c7762932710762bae1fd10c6b98aa296e5c76897d2f6512bdd387c"
  },
  "language_info": {
   "codemirror_mode": {
    "name": "ipython",
    "version": 3
   },
   "file_extension": ".py",
   "mimetype": "text/x-python",
   "name": "python",
   "nbconvert_exporter": "python",
   "pygments_lexer": "ipython3",
   "version": "3.8.5"
  },
  "orig_nbformat": 2
 },
 "nbformat": 4,
 "nbformat_minor": 2
}