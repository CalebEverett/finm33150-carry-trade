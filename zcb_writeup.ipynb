{
 "cells": [
  {
   "cell_type": "markdown",
   "metadata": {},
   "source": [
    "# Zero Coupon Bond Curve"
   ]
  },
  {
   "cell_type": "markdown",
   "metadata": {},
   "source": [
    "## Imports"
   ]
  },
  {
   "cell_type": "code",
   "execution_count": 2,
   "metadata": {},
   "outputs": [],
   "source": [
    "import numpy as np\n",
    "import pandas as pd\n",
    "import plotly.io as pio\n",
    "\n",
    "from carry_trade import utils\n",
    "\n",
    "pd.options.plotting.backend = \"plotly\"\n",
    "pio.templates.default = \"none\""
   ]
  },
  {
   "cell_type": "markdown",
   "metadata": {},
   "source": [
    "## Summary"
   ]
  },
  {
   "cell_type": "code",
   "execution_count": 3,
   "metadata": {},
   "outputs": [],
   "source": [
    "start_date = \"2014-12-01\"\n",
    "tickers = [\"THA\", \"ROU\", \"JPN\", \"IDN\"]\n",
    "libors = [\"JPY3MTD156N\"]\n",
    "currencies = [\"THB\", \"RON\", \"JPY\", \"IDR\"]"
   ]
  },
  {
   "cell_type": "markdown",
   "metadata": {},
   "source": [
    "## Thai Baht YC/THA"
   ]
  },
  {
   "cell_type": "code",
   "execution_count": 4,
   "metadata": {},
   "outputs": [],
   "source": [
    "dfs_yc = {t: pd.read_csv(f\"data/df_{t}.csv\") for t in tickers}\n",
    "dfs_fx = {c: pd.read_csv(f\"data/df_fx_{c}.csv\") for c in currencies}\n",
    "dfs_libor = {l: pd.read_csv(f\"data/df_libor_{l}.csv\") for l in libors}\n",
    "for d in [dfs_yc, dfs_fx, dfs_libor]:\n",
    "    for df in d.values():\n",
    "        df[\"date\"] = pd.to_datetime(df.date)\n",
    "        df.set_index(\"date\", inplace=True)\n",
    "\n",
    "dfs_libor[\"JPY3MTD156N\"].value = dfs_libor[\"JPY3MTD156N\"].value.replace(\".\", None).astype(float)"
   ]
  },
  {
   "cell_type": "code",
   "execution_count": 5,
   "metadata": {},
   "outputs": [],
   "source": [
    "week_start = pd.Timestamp(\"2021-04-21\")\n",
    "week_end = week_start + pd.DateOffset(days=7)\n",
    "notional_start_USD = float(10e6)\n",
    "capital_start_USD = float(2e6)\n",
    "borrow_start_USD = notional_start_USD - capital_start_USD"
   ]
  },
  {
   "cell_type": "markdown",
   "metadata": {},
   "source": [
    "Borrow $8MM notional JPY"
   ]
  },
  {
   "cell_type": "code",
   "execution_count": 6,
   "metadata": {},
   "outputs": [],
   "source": [
    "borrow_rate = dfs_libor[\"JPY3MTD156N\"].loc[week_start].value\n",
    "fx_rate_start_borrow_USD = dfs_fx[\"JPY\"].loc[week_start].rate\n",
    "borrow_start_borrow = borrow_start_USD * fx_rate_start_borrow_USD"
   ]
  },
  {
   "cell_type": "markdown",
   "metadata": {},
   "source": [
    "Exchange $2MM USD for JPY"
   ]
  },
  {
   "cell_type": "code",
   "execution_count": 7,
   "metadata": {},
   "outputs": [],
   "source": [
    "capital_start_borrow = capital_start_USD * fx_rate_start_borrow_USD"
   ]
  },
  {
   "cell_type": "markdown",
   "metadata": {},
   "source": [
    "Exchange $10MM USD notional JPY for Thai Baht"
   ]
  },
  {
   "cell_type": "code",
   "execution_count": 8,
   "metadata": {},
   "outputs": [
    {
     "data": {
      "text/plain": "313199980.0"
     },
     "execution_count": 8,
     "metadata": {},
     "output_type": "execute_result"
    }
   ],
   "source": [
    "fx_rate_start_lend_USD = dfs_fx[\"THB\"].loc[week_start].rate\n",
    "fx_rate_start_lend_borrow = fx_rate_start_lend_USD / fx_rate_start_borrow_USD\n",
    "notional_start_lend = (borrow_start_borrow + capital_start_borrow) * fx_rate_start_lend_borrow\n",
    "notional_start_lend"
   ]
  },
  {
   "cell_type": "markdown",
   "metadata": {},
   "source": [
    "Buy $10MM USD notional Thai Government Bonds"
   ]
  },
  {
   "cell_type": "code",
   "execution_count": 9,
   "metadata": {},
   "outputs": [
    {
     "data": {
      "text/plain": "0.984"
     },
     "execution_count": 9,
     "metadata": {},
     "output_type": "execute_result"
    }
   ],
   "source": [
    "yield_start_lend = dfs_yc[\"THA\"].loc[week_start, \"5-year\"]\n",
    "yield_start_lend"
   ]
  },
  {
   "cell_type": "code",
   "execution_count": 10,
   "metadata": {},
   "outputs": [
    {
     "data": {
      "text/plain": "coupon_date\n2021-07-21    7.704720e+07\n2021-10-21    7.704720e+07\n2022-01-21    7.704720e+07\n2022-04-21    7.704720e+07\n2022-07-21    7.704720e+07\n2022-10-21    7.704720e+07\n2023-01-21    7.704720e+07\n2023-04-21    7.704720e+07\n2023-07-21    7.704720e+07\n2023-10-21    7.704720e+07\n2024-01-21    7.704720e+07\n2024-04-21    7.704720e+07\n2024-07-21    7.704720e+07\n2024-10-21    7.704720e+07\n2025-01-21    7.704720e+07\n2025-04-21    7.704720e+07\n2025-07-21    7.704720e+07\n2025-10-21    7.704720e+07\n2026-01-21    7.704720e+07\n2026-04-21    3.902472e+08\nName: cash_flow, dtype: float64"
     },
     "execution_count": 10,
     "metadata": {},
     "output_type": "execute_result"
    }
   ],
   "source": [
    "s_cash_flow = utils.get_bond_cash_flows(yield_start_lend, notional_start_lend, week_start)\n",
    "s_cash_flow"
   ]
  },
  {
   "cell_type": "markdown",
   "metadata": {},
   "source": [
    "Sell Thai Government Bonds"
   ]
  },
  {
   "cell_type": "code",
   "execution_count": 11,
   "metadata": {},
   "outputs": [
    {
     "data": {
      "text/plain": "Timestamp('2021-04-28 00:00:00')"
     },
     "execution_count": 11,
     "metadata": {},
     "output_type": "execute_result"
    }
   ],
   "source": [
    "week_end"
   ]
  },
  {
   "cell_type": "code",
   "execution_count": 12,
   "metadata": {},
   "outputs": [],
   "source": [
    "yc_end = dfs_yc[\"THA\"].loc[week_end].iloc[:8].astype(float)"
   ]
  },
  {
   "cell_type": "code",
   "execution_count": 16,
   "metadata": {},
   "outputs": [
    {
     "data": {
      "text/plain": "0    2021-07-28\n1    2021-10-28\n2    2022-01-28\n3    2022-04-28\n4    2022-07-28\n5    2022-10-28\n6    2023-01-28\n7    2023-04-28\n8    2023-07-28\n9    2023-10-28\n10   2024-01-28\n11   2024-04-28\n12   2024-07-28\n13   2024-10-28\n14   2025-01-28\n15   2025-04-28\n16   2025-07-28\n17   2025-10-28\n18   2026-01-28\n19   2026-04-28\nName: coupon_date, dtype: datetime64[ns]"
     },
     "execution_count": 16,
     "metadata": {},
     "output_type": "execute_result"
    }
   ],
   "source": [
    "utils.get_coupon_dates(week_end)"
   ]
  },
  {
   "cell_type": "code",
   "execution_count": 17,
   "metadata": {},
   "outputs": [],
   "source": [
    "yc_dates = []\n",
    "for i in dfs_yc[\"THA\"].loc[week_end].iloc[:8].index:\n",
    "    n, per = i.split(\"-\")\n",
    "    yc_dates.append(week_end + pd.DateOffset(**{f\"{per}s\": int(n)}))\n",
    "yc_end.index = yc_dates\n",
    "yc_end.name = \"spot_rate\""
   ]
  },
  {
   "cell_type": "code",
   "execution_count": 18,
   "metadata": {},
   "outputs": [
    {
     "name": "stdout",
     "output_type": "stream",
     "text": [
      "<table border=\"1\" class=\"dataframe\">\n",
      "  <thead>\n",
      "    <tr style=\"text-align: right;\">\n",
      "      <th></th>\n",
      "      <th>2021-04-28 00:00:00</th>\n",
      "    </tr>\n",
      "  </thead>\n",
      "  <tbody>\n",
      "    <tr>\n",
      "      <th>1-month</th>\n",
      "      <td>0.3020</td>\n",
      "    </tr>\n",
      "    <tr>\n",
      "      <th>3-month</th>\n",
      "      <td>0.3287</td>\n",
      "    </tr>\n",
      "    <tr>\n",
      "      <th>6-month</th>\n",
      "      <td>0.4145</td>\n",
      "    </tr>\n",
      "    <tr>\n",
      "      <th>1-year</th>\n",
      "      <td>0.4500</td>\n",
      "    </tr>\n",
      "    <tr>\n",
      "      <th>2-year</th>\n",
      "      <td>0.4760</td>\n",
      "    </tr>\n",
      "    <tr>\n",
      "      <th>3-year</th>\n",
      "      <td>0.7080</td>\n",
      "    </tr>\n",
      "    <tr>\n",
      "      <th>4-year</th>\n",
      "      <td>0.9150</td>\n",
      "    </tr>\n",
      "    <tr>\n",
      "      <th>5-year</th>\n",
      "      <td>1.0010</td>\n",
      "    </tr>\n",
      "  </tbody>\n",
      "</table>\n"
     ]
    }
   ],
   "source": [
    "print(dfs_yc[\"THA\"].loc[week_end].iloc[:8].astype(float).to_frame().to_html())"
   ]
  },
  {
   "cell_type": "code",
   "execution_count": 19,
   "metadata": {},
   "outputs": [
    {
     "data": {
      "text/html": "<div>\n<style scoped>\n    .dataframe tbody tr th:only-of-type {\n        vertical-align: middle;\n    }\n\n    .dataframe tbody tr th {\n        vertical-align: top;\n    }\n\n    .dataframe thead th {\n        text-align: right;\n    }\n</style>\n<table border=\"1\" class=\"dataframe\">\n  <thead>\n    <tr style=\"text-align: right;\">\n      <th></th>\n      <th>1-month</th>\n      <th>3-month</th>\n      <th>6-month</th>\n      <th>1-year</th>\n      <th>2-year</th>\n      <th>3-year</th>\n      <th>4-year</th>\n      <th>5-year</th>\n      <th>6-year</th>\n      <th>7-year</th>\n      <th>8-year</th>\n      <th>9-year</th>\n      <th>10-year</th>\n      <th>15-year</th>\n      <th>ticker</th>\n    </tr>\n    <tr>\n      <th>date</th>\n      <th></th>\n      <th></th>\n      <th></th>\n      <th></th>\n      <th></th>\n      <th></th>\n      <th></th>\n      <th></th>\n      <th></th>\n      <th></th>\n      <th></th>\n      <th></th>\n      <th></th>\n      <th></th>\n      <th></th>\n    </tr>\n  </thead>\n  <tbody>\n    <tr>\n      <th>2014-12-01</th>\n      <td>2.0130</td>\n      <td>2.0200</td>\n      <td>2.0200</td>\n      <td>2.010</td>\n      <td>2.075</td>\n      <td>2.095</td>\n      <td>2.232</td>\n      <td>2.310</td>\n      <td>2.383</td>\n      <td>3.301</td>\n      <td>2.696</td>\n      <td>2.738</td>\n      <td>3.304</td>\n      <td>3.231</td>\n      <td>THA</td>\n    </tr>\n    <tr>\n      <th>2014-12-02</th>\n      <td>2.0110</td>\n      <td>2.0200</td>\n      <td>2.0200</td>\n      <td>2.000</td>\n      <td>2.079</td>\n      <td>2.078</td>\n      <td>2.235</td>\n      <td>2.304</td>\n      <td>2.374</td>\n      <td>3.301</td>\n      <td>2.693</td>\n      <td>2.738</td>\n      <td>3.304</td>\n      <td>3.198</td>\n      <td>THA</td>\n    </tr>\n    <tr>\n      <th>2014-12-03</th>\n      <td>2.0090</td>\n      <td>2.0100</td>\n      <td>2.0100</td>\n      <td>2.000</td>\n      <td>2.076</td>\n      <td>2.085</td>\n      <td>2.219</td>\n      <td>2.328</td>\n      <td>2.386</td>\n      <td>3.301</td>\n      <td>2.687</td>\n      <td>2.753</td>\n      <td>2.919</td>\n      <td>3.237</td>\n      <td>THA</td>\n    </tr>\n    <tr>\n      <th>2014-12-04</th>\n      <td>2.0090</td>\n      <td>2.0100</td>\n      <td>2.0100</td>\n      <td>2.000</td>\n      <td>2.074</td>\n      <td>2.091</td>\n      <td>2.243</td>\n      <td>2.329</td>\n      <td>2.403</td>\n      <td>3.301</td>\n      <td>2.702</td>\n      <td>2.752</td>\n      <td>2.911</td>\n      <td>3.227</td>\n      <td>THA</td>\n    </tr>\n    <tr>\n      <th>2014-12-05</th>\n      <td>2.0090</td>\n      <td>2.0100</td>\n      <td>2.0100</td>\n      <td>2.000</td>\n      <td>2.074</td>\n      <td>2.091</td>\n      <td>2.243</td>\n      <td>2.329</td>\n      <td>2.403</td>\n      <td>3.301</td>\n      <td>2.702</td>\n      <td>2.752</td>\n      <td>2.911</td>\n      <td>3.227</td>\n      <td>THA</td>\n    </tr>\n    <tr>\n      <th>...</th>\n      <td>...</td>\n      <td>...</td>\n      <td>...</td>\n      <td>...</td>\n      <td>...</td>\n      <td>...</td>\n      <td>...</td>\n      <td>...</td>\n      <td>...</td>\n      <td>...</td>\n      <td>...</td>\n      <td>...</td>\n      <td>...</td>\n      <td>...</td>\n      <td>...</td>\n    </tr>\n    <tr>\n      <th>2021-04-23</th>\n      <td>0.3012</td>\n      <td>0.3252</td>\n      <td>0.4050</td>\n      <td>0.446</td>\n      <td>0.413</td>\n      <td>0.686</td>\n      <td>0.905</td>\n      <td>0.993</td>\n      <td>NaN</td>\n      <td>NaN</td>\n      <td>1.548</td>\n      <td>NaN</td>\n      <td>1.850</td>\n      <td>2.127</td>\n      <td>THA</td>\n    </tr>\n    <tr>\n      <th>2021-04-26</th>\n      <td>0.3003</td>\n      <td>0.3253</td>\n      <td>0.4089</td>\n      <td>0.446</td>\n      <td>0.468</td>\n      <td>0.676</td>\n      <td>0.888</td>\n      <td>0.970</td>\n      <td>NaN</td>\n      <td>NaN</td>\n      <td>1.517</td>\n      <td>NaN</td>\n      <td>1.792</td>\n      <td>2.091</td>\n      <td>THA</td>\n    </tr>\n    <tr>\n      <th>2021-04-27</th>\n      <td>0.3002</td>\n      <td>0.3268</td>\n      <td>0.4113</td>\n      <td>0.449</td>\n      <td>0.476</td>\n      <td>0.694</td>\n      <td>0.905</td>\n      <td>0.996</td>\n      <td>NaN</td>\n      <td>NaN</td>\n      <td>1.553</td>\n      <td>NaN</td>\n      <td>1.828</td>\n      <td>2.121</td>\n      <td>THA</td>\n    </tr>\n    <tr>\n      <th>2021-04-28</th>\n      <td>0.3020</td>\n      <td>0.3287</td>\n      <td>0.4145</td>\n      <td>0.450</td>\n      <td>0.476</td>\n      <td>0.708</td>\n      <td>0.915</td>\n      <td>1.001</td>\n      <td>NaN</td>\n      <td>NaN</td>\n      <td>1.569</td>\n      <td>NaN</td>\n      <td>1.810</td>\n      <td>2.147</td>\n      <td>THA</td>\n    </tr>\n    <tr>\n      <th>2021-04-30</th>\n      <td>0.3005</td>\n      <td>0.3271</td>\n      <td>0.4084</td>\n      <td>0.445</td>\n      <td>0.477</td>\n      <td>0.692</td>\n      <td>0.891</td>\n      <td>0.955</td>\n      <td>NaN</td>\n      <td>NaN</td>\n      <td>1.537</td>\n      <td>NaN</td>\n      <td>1.769</td>\n      <td>2.102</td>\n      <td>THA</td>\n    </tr>\n  </tbody>\n</table>\n<p>1580 rows × 15 columns</p>\n</div>",
      "text/plain": "            1-month  3-month  6-month  1-year  2-year  3-year  4-year  5-year  \\\ndate                                                                            \n2014-12-01   2.0130   2.0200   2.0200   2.010   2.075   2.095   2.232   2.310   \n2014-12-02   2.0110   2.0200   2.0200   2.000   2.079   2.078   2.235   2.304   \n2014-12-03   2.0090   2.0100   2.0100   2.000   2.076   2.085   2.219   2.328   \n2014-12-04   2.0090   2.0100   2.0100   2.000   2.074   2.091   2.243   2.329   \n2014-12-05   2.0090   2.0100   2.0100   2.000   2.074   2.091   2.243   2.329   \n...             ...      ...      ...     ...     ...     ...     ...     ...   \n2021-04-23   0.3012   0.3252   0.4050   0.446   0.413   0.686   0.905   0.993   \n2021-04-26   0.3003   0.3253   0.4089   0.446   0.468   0.676   0.888   0.970   \n2021-04-27   0.3002   0.3268   0.4113   0.449   0.476   0.694   0.905   0.996   \n2021-04-28   0.3020   0.3287   0.4145   0.450   0.476   0.708   0.915   1.001   \n2021-04-30   0.3005   0.3271   0.4084   0.445   0.477   0.692   0.891   0.955   \n\n            6-year  7-year  8-year  9-year  10-year  15-year ticker  \ndate                                                                 \n2014-12-01   2.383   3.301   2.696   2.738    3.304    3.231    THA  \n2014-12-02   2.374   3.301   2.693   2.738    3.304    3.198    THA  \n2014-12-03   2.386   3.301   2.687   2.753    2.919    3.237    THA  \n2014-12-04   2.403   3.301   2.702   2.752    2.911    3.227    THA  \n2014-12-05   2.403   3.301   2.702   2.752    2.911    3.227    THA  \n...            ...     ...     ...     ...      ...      ...    ...  \n2021-04-23     NaN     NaN   1.548     NaN    1.850    2.127    THA  \n2021-04-26     NaN     NaN   1.517     NaN    1.792    2.091    THA  \n2021-04-27     NaN     NaN   1.553     NaN    1.828    2.121    THA  \n2021-04-28     NaN     NaN   1.569     NaN    1.810    2.147    THA  \n2021-04-30     NaN     NaN   1.537     NaN    1.769    2.102    THA  \n\n[1580 rows x 15 columns]"
     },
     "execution_count": 19,
     "metadata": {},
     "output_type": "execute_result"
    }
   ],
   "source": [
    "dfs_yc[\"THA\"]"
   ]
  },
  {
   "cell_type": "code",
   "execution_count": 20,
   "metadata": {},
   "outputs": [],
   "source": [
    "yc_end = yc_end.to_frame().reindex(utils.get_coupon_dates(week_end)).interpolate()"
   ]
  },
  {
   "cell_type": "code",
   "execution_count": 21,
   "metadata": {},
   "outputs": [
    {
     "name": "stdout",
     "output_type": "stream",
     "text": [
      "<table border=\"1\" class=\"dataframe\">\n",
      "  <thead>\n",
      "    <tr style=\"text-align: right;\">\n",
      "      <th></th>\n",
      "      <th>spot_rate</th>\n",
      "    </tr>\n",
      "    <tr>\n",
      "      <th>coupon_date</th>\n",
      "      <th></th>\n",
      "    </tr>\n",
      "  </thead>\n",
      "  <tbody>\n",
      "    <tr>\n",
      "      <th>2021-07-28</th>\n",
      "      <td>0.32870</td>\n",
      "    </tr>\n",
      "    <tr>\n",
      "      <th>2021-10-28</th>\n",
      "      <td>0.41450</td>\n",
      "    </tr>\n",
      "    <tr>\n",
      "      <th>2022-01-28</th>\n",
      "      <td>0.43225</td>\n",
      "    </tr>\n",
      "    <tr>\n",
      "      <th>2022-04-28</th>\n",
      "      <td>0.45000</td>\n",
      "    </tr>\n",
      "    <tr>\n",
      "      <th>2022-07-28</th>\n",
      "      <td>0.45650</td>\n",
      "    </tr>\n",
      "  </tbody>\n",
      "</table>\n"
     ]
    }
   ],
   "source": [
    "print((yc_end.iloc[:5]).to_html())"
   ]
  },
  {
   "cell_type": "code",
   "execution_count": 22,
   "metadata": {},
   "outputs": [
    {
     "data": {
      "text/plain": "(             spot_rate\n coupon_date           \n 2021-07-28     0.32870\n 2021-10-28     0.41450\n 2022-01-28     0.43225\n 2022-04-28     0.45000\n 2022-07-28     0.45650,\n Float64Index([              0.25, 0.5027472527472527, 0.7554945054945055,\n               1.0027472527472527, 1.2527472527472527],\n              dtype='float64', name='coupon_date'))"
     },
     "execution_count": 22,
     "metadata": {},
     "output_type": "execute_result"
    }
   ],
   "source": [
    "t_rates = yc_end.iloc[:5]\n",
    "t_times = (t_rates.index - week_end).days / 364\n",
    "t_rates, t_times"
   ]
  },
  {
   "cell_type": "markdown",
   "metadata": {},
   "source": [
    "This is an attempt to describe in detail the mechanics of calculating a zero coupon bond curve from a spot rates curve.\n",
    "\n",
    "* The rates we get from YC are annual spot rates for bonds at various tenors with par values of 100 as of the date of the curve.\n",
    "* Per the homework instructions, we assume coupons are paid quarterly.\n",
    "* The task at hand is to calculate the discount rate for each coupon, using the earliest rates already on a zero coupon basis (1 year or less) to start with, such that we end up with the same present value at each tenor.\n",
    "* You do that through a process called [bootstrapping or forward filling](https://en.wikipedia.org/wiki/Bootstrapping_(finance)), which essentially treats each coupon as if it were its own zero coupon bond and solves iteratively for the rate for each successive tenor.\n",
    "* Below are illustrative calculations for the first calculated tenor (1.25 years) for the rates from YC\\THA on 2021-04-28, which would then be repeated for each succssive tenor.\n",
    "\n",
    "<table border=\"1\" class=\"dataframe\">\n",
    "  <thead>\n",
    "    <tr style=\"text-align: right;\">\n",
    "      <th></th>\n",
    "      <th>2021-04-28</th>\n",
    "    </tr>\n",
    "  </thead>\n",
    "  <tbody>\n",
    "    <tr>\n",
    "      <th>1-month</th>\n",
    "      <td>0.3020</td>\n",
    "    </tr>\n",
    "    <tr>\n",
    "      <th>3-month</th>\n",
    "      <td>0.3287</td>\n",
    "    </tr>\n",
    "    <tr>\n",
    "      <th>6-month</th>\n",
    "      <td>0.4145</td>\n",
    "    </tr>\n",
    "    <tr>\n",
    "      <th>1-year</th>\n",
    "      <td>0.4500</td>\n",
    "    </tr>\n",
    "    <tr>\n",
    "      <th>2-year</th>\n",
    "      <td>0.4760</td>\n",
    "    </tr>\n",
    "    <tr>\n",
    "      <th>3-year</th>\n",
    "      <td>0.7080</td>\n",
    "    </tr>\n",
    "    <tr>\n",
    "      <th>4-year</th>\n",
    "      <td>0.9150</td>\n",
    "    </tr>\n",
    "    <tr>\n",
    "      <th>5-year</th>\n",
    "      <td>1.0010</td>\n",
    "    </tr>\n",
    "  </tbody>\n",
    "</table>\n",
    "\n",
    "* Interpolate for the tenors where there aren't rates.\n",
    "\n",
    "\n",
    "<table border=\"1\" class=\"dataframe\">\n",
    "  <thead>\n",
    "    <tr style=\"text-align: right;\">\n",
    "      <th></th>\n",
    "      <th>spot_rate</th>\n",
    "    </tr>\n",
    "    <tr>\n",
    "      <th>coupon_date</th>\n",
    "      <th></th>\n",
    "    </tr>\n",
    "  </thead>\n",
    "  <tbody>\n",
    "    <tr>\n",
    "      <th>2021-07-28</th>\n",
    "      <td>0.32870</td>\n",
    "    </tr>\n",
    "    <tr>\n",
    "      <th>2021-10-28</th>\n",
    "      <td>0.41450</td>\n",
    "    </tr>\n",
    "    <tr>\n",
    "      <th>2022-01-28</th>\n",
    "      <td>0.43225</td>\n",
    "    </tr>\n",
    "    <tr>\n",
    "      <th>2022-04-28</th>\n",
    "      <td>0.45000</td>\n",
    "    </tr>\n",
    "    <tr>\n",
    "      <th>2022-07-28</th>\n",
    "      <td>0.45650</td>\n",
    "    </tr>\n",
    "    <tr>\n",
    "      <th>2022-10-28</th>\n",
    "      <td>0.46300</td>\n",
    "    </tr>\n",
    "    <tr>\n",
    "      <th>2023-01-28</th>\n",
    "      <td>0.46950</td>\n",
    "    </tr>\n",
    "    <tr>\n",
    "      <th>2023-04-28</th>\n",
    "      <td>0.47600</td>\n",
    "    </tr>\n",
    "  </tbody>\n",
    "</table>\n",
    "\n",
    "\n",
    "\n",
    "$$\n",
    "\\begin{align*}\n",
    "0.114 \\cdot e^{-0.3278\\cdot{0.25}} + 0.114 \\cdot e^{-0.4145\\cdot{0.50}} + 0.114 \\cdot e^{-0.4322\\cdot{0.75}} + 0.114 \\cdot e^{-0.4500\\cdot{1}} + 1.114 \\cdot e^{-r\\cdot{1.25}} &= 1\\\\\n",
    "\\left( 0.114 \\cdot e^{-0.3278\\cdot{0.25}} + 0.114 \\cdot e^{-0.4145\\cdot{0.50}} + 0.114 \\cdot e^{-0.4322\\cdot{0.75}} + 0.114 \\cdot e^{-0.4500\\cdot{1}} \\right) - 1 &= -1.114 \\cdot e^{-r\\cdot{1.25}} \\\\\n",
    "\\frac{1 - \\left( 0.114 \\cdot e^{-0.3278\\cdot{0.25}} + 0.114 \\cdot e^{-0.4145\\cdot{0.50}} + 0.114 \\cdot e^{-0.4322\\cdot{0.75}} + 0.114 \\cdot e^{-0.4500\\cdot{1}} \\right)}{1.114} &=  e^{-r\\cdot{1.25}} \\\\\n",
    "-\\log \\left( \\frac{1 - \\left( 0.114 \\cdot e^{-0.3278\\cdot{0.25}} + 0.114 \\cdot e^{-0.4145\\cdot{0.50}} + 0.114 \\cdot e^{-0.4322\\cdot{0.75}} + 0.114 \\cdot e^{-0.4500\\cdot{1}} \\right)}{1.114} \\right) \\cdot \\frac{1}{1.25} &= r \\\\\n",
    "0.4334 = r\n",
    "\n",
    "\\end{align*}\n",
    "$$\n",
    "\n",
    "* Which is as follows in `compute_zcb_curve` in Zero_And_Spot_Curves.ipynb:\n",
    "```python\n",
    "-np.log((1 - preceding_coupons_val) / (1 + coupon_half_yr)) / tenor\n",
    "```"
   ]
  },
  {
   "cell_type": "code",
   "execution_count": 25,
   "metadata": {},
   "outputs": [
    {
     "data": {
      "text/plain": "0.43452053049434464"
     },
     "execution_count": 25,
     "metadata": {},
     "output_type": "execute_result"
    }
   ],
   "source": [
    "- np.log((1 - 0.114125 * np.exp(-t_rates.spot_rate[:-1] * t_times[:-1]).sum())/ 1.114125) / 1.25"
   ]
  }
 ],
 "metadata": {
  "kernelspec": {
   "display_name": "Python 3.8.5 64-bit ('carry_trade-dUNJ7arw': pipenv)",
   "name": "python385jvsc74a57bd0aac822e7f1c7762932710762bae1fd10c6b98aa296e5c76897d2f6512bdd387c"
  },
  "language_info": {
   "codemirror_mode": {
    "name": "ipython",
    "version": 3
   },
   "file_extension": ".py",
   "mimetype": "text/x-python",
   "name": "python",
   "nbconvert_exporter": "python",
   "pygments_lexer": "ipython3",
   "version": "3.8.5"
  },
  "orig_nbformat": 3
 },
 "nbformat": 4,
 "nbformat_minor": 2
}