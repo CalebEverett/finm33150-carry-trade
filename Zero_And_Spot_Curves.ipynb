{
 "cells": [
  {
   "cell_type": "markdown",
   "metadata": {},
   "source": [
    "# Zero Curves and Spot Curves"
   ]
  },
  {
   "cell_type": "markdown",
   "metadata": {},
   "source": [
    "Interest rate curves are commonly provided as either zero curves or spot curves.  They are different."
   ]
  },
  {
   "cell_type": "code",
   "execution_count": 8,
   "metadata": {
    "ExecuteTime": {
     "end_time": "2020-05-12T00:04:33.659709Z",
     "start_time": "2020-05-12T00:04:33.114222Z"
    }
   },
   "outputs": [
    {
     "data": {
      "application/vnd.plotly.v1+json": {
       "config": {
        "plotlyServerURL": "https://plot.ly"
       },
       "data": [
        {
         "hovertemplate": "variable=Low<br>Tenor=%{x}<br>value=%{y}<extra></extra>",
         "legendgroup": "Low",
         "line": {
          "color": "#1F77B4",
          "dash": "solid"
         },
         "mode": "lines",
         "name": "Low",
         "orientation": "v",
         "showlegend": true,
         "type": "scatter",
         "x": [
          0,
          1,
          2,
          5,
          10
         ],
         "xaxis": "x",
         "y": [
          0.01,
          0.015,
          0.02,
          0.025,
          0.03
         ],
         "yaxis": "y"
        },
        {
         "hovertemplate": "variable=High<br>Tenor=%{x}<br>value=%{y}<extra></extra>",
         "legendgroup": "High",
         "line": {
          "color": "#FF7F0E",
          "dash": "solid"
         },
         "mode": "lines",
         "name": "High",
         "orientation": "v",
         "showlegend": true,
         "type": "scatter",
         "x": [
          0,
          1,
          2,
          5,
          10
         ],
         "xaxis": "x",
         "y": [
          0.04,
          0.06,
          0.07,
          0.09,
          0.11
         ],
         "yaxis": "y"
        }
       ],
       "layout": {
        "legend": {
         "title": {
          "text": "variable"
         },
         "tracegroupgap": 0
        },
        "template": {
         "data": {
          "scatter": [
           {
            "type": "scatter"
           }
          ]
         }
        },
        "title": {
         "text": "Term Struct of Zero Coupon Bond Rates"
        },
        "xaxis": {
         "anchor": "y",
         "domain": [
          0,
          1
         ],
         "title": {
          "text": "Tenor"
         }
        },
        "yaxis": {
         "anchor": "x",
         "domain": [
          0,
          1
         ],
         "title": {
          "text": "value"
         }
        }
       }
      },
      "text/html": "<div>                            <div id=\"710d1257-36d7-4fbd-8c34-6c804670ab39\" class=\"plotly-graph-div\" style=\"height:525px; width:100%;\"></div>            <script type=\"text/javascript\">                require([\"plotly\"], function(Plotly) {                    window.PLOTLYENV=window.PLOTLYENV || {};                                    if (document.getElementById(\"710d1257-36d7-4fbd-8c34-6c804670ab39\")) {                    Plotly.newPlot(                        \"710d1257-36d7-4fbd-8c34-6c804670ab39\",                        [{\"hovertemplate\": \"variable=Low<br>Tenor=%{x}<br>value=%{y}<extra></extra>\", \"legendgroup\": \"Low\", \"line\": {\"color\": \"#1F77B4\", \"dash\": \"solid\"}, \"mode\": \"lines\", \"name\": \"Low\", \"orientation\": \"v\", \"showlegend\": true, \"type\": \"scatter\", \"x\": [0, 1, 2, 5, 10], \"xaxis\": \"x\", \"y\": [0.01, 0.015, 0.02, 0.025, 0.03], \"yaxis\": \"y\"}, {\"hovertemplate\": \"variable=High<br>Tenor=%{x}<br>value=%{y}<extra></extra>\", \"legendgroup\": \"High\", \"line\": {\"color\": \"#FF7F0E\", \"dash\": \"solid\"}, \"mode\": \"lines\", \"name\": \"High\", \"orientation\": \"v\", \"showlegend\": true, \"type\": \"scatter\", \"x\": [0, 1, 2, 5, 10], \"xaxis\": \"x\", \"y\": [0.04, 0.06, 0.07, 0.09, 0.11], \"yaxis\": \"y\"}],                        {\"legend\": {\"title\": {\"text\": \"variable\"}, \"tracegroupgap\": 0}, \"template\": {\"data\": {\"scatter\": [{\"type\": \"scatter\"}]}}, \"title\": {\"text\": \"Term Struct of Zero Coupon Bond Rates\"}, \"xaxis\": {\"anchor\": \"y\", \"domain\": [0.0, 1.0], \"title\": {\"text\": \"Tenor\"}}, \"yaxis\": {\"anchor\": \"x\", \"domain\": [0.0, 1.0], \"title\": {\"text\": \"value\"}}},                        {\"responsive\": true}                    ).then(function(){\n                            \nvar gd = document.getElementById('710d1257-36d7-4fbd-8c34-6c804670ab39');\nvar x = new MutationObserver(function (mutations, observer) {{\n        var display = window.getComputedStyle(gd).display;\n        if (!display || display === 'none') {{\n            console.log([gd, 'removed!']);\n            Plotly.purge(gd);\n            observer.disconnect();\n        }}\n}});\n\n// Listen for the removal of the full notebook cells\nvar notebookContainer = gd.closest('#notebook-container');\nif (notebookContainer) {{\n    x.observe(notebookContainer, {childList: true});\n}}\n\n// Listen for the clearing of the current output cell\nvar outputEl = gd.closest('.output');\nif (outputEl) {{\n    x.observe(outputEl, {childList: true});\n}}\n\n                        })                };                });            </script>        </div>"
     },
     "metadata": {},
     "output_type": "display_data"
    }
   ],
   "source": [
    "import pandas as pd\n",
    "import plotly.io as pio\n",
    "\n",
    "from carry_trade import utils\n",
    "import numpy as np\n",
    "\n",
    "pd.options.plotting.backend = \"plotly\"\n",
    "pio.templates.default = \"none\"\n",
    "\n",
    "rates = pd.DataFrame({'Low':[0.01, 0.015, 0.02, 0.025, 0.03],\n",
    "                     'High':[0.04, 0.06, 0.07, 0.09, 0.11],\n",
    "                     'Tenor':[0,1,2,5,10]}).set_index(['Tenor'])\n",
    "rp = rates.plot(title=\"Term Struct of Zero Coupon Bond Rates\")\n",
    "rp.show()"
   ]
  },
  {
   "cell_type": "markdown",
   "metadata": {},
   "source": [
    "We often work with spot rates, such as the swap curve, but for proper treatment of value changes, we want a zero-coupon curve.  A spot curve has the property that the present value of a coupon bond with coupons equal to the quoted rate is 1.0.  We can use that fact to construct a spot curve out of the zero curve."
   ]
  },
  {
   "cell_type": "code",
   "execution_count": 9,
   "metadata": {
    "ExecuteTime": {
     "end_time": "2020-05-12T00:04:33.666079Z",
     "start_time": "2020-05-12T00:04:33.661262Z"
    }
   },
   "outputs": [],
   "source": [
    "def spot_rate(zcb, tenor):\n",
    "    times = np.arange(tenor, 0, step=-0.5)[::-1]\n",
    "    if times.shape[0]==0:\n",
    "        sr = None\n",
    "    else:\n",
    "        r = np.interp(times, zcb.index.values, zcb.values) # Linear interpolation\n",
    "        coupons_pv_x = 0.5*np.exp(-r*times).sum()\n",
    "        final_pv = np.exp(-tenor*r[-1])\n",
    "        sr = (1.0 - final_pv) / coupons_pv_x # Solves x + c * delta = 1.0\n",
    "    return sr\n",
    "\n",
    "def compute_spot_rates(zcb_rates):\n",
    "    spot = zcb_rates.copy()\n",
    "    for curve in zcb_rates.columns:\n",
    "        zcb = zcb_rates[curve]\n",
    "        for tenor, rate in zcb.iteritems():\n",
    "            if tenor>0.001:\n",
    "                spot[curve][tenor] = spot_rate(zcb, tenor)\n",
    "    return spot\n"
   ]
  },
  {
   "cell_type": "markdown",
   "metadata": {},
   "source": [
    "Pricing a bond, with its coupons, on a zero curve is quite simple"
   ]
  },
  {
   "cell_type": "code",
   "execution_count": 5,
   "metadata": {
    "ExecuteTime": {
     "end_time": "2020-05-12T00:04:33.671323Z",
     "start_time": "2020-05-12T00:04:33.667853Z"
    }
   },
   "outputs": [],
   "source": [
    "def bond_price(zcb, coupon_rate, tenor):\n",
    "    times = np.arange(tenor, 0, step=-0.5)[::-1]\n",
    "    if times.shape[0]==0:\n",
    "        p = 1.0\n",
    "    else:\n",
    "        r = np.interp(times, zcb.index.values, zcb.values) # Linear interpolation\n",
    "        p = np.exp(-tenor*r[-1]) + 0.5 * coupon_rate * np.exp(-r*times).sum()\n",
    "    return p\n",
    "\n"
   ]
  },
  {
   "cell_type": "markdown",
   "metadata": {},
   "source": [
    "Let's look at the zero curves we obtain from our spot rates in the swap curve above"
   ]
  },
  {
   "cell_type": "code",
   "execution_count": 7,
   "metadata": {
    "ExecuteTime": {
     "end_time": "2020-05-12T00:04:33.781838Z",
     "start_time": "2020-05-12T00:04:33.672744Z"
    },
    "scrolled": false
   },
   "outputs": [
    {
     "name": "stdout",
     "output_type": "stream",
     "text": [
      "            Low      High\n",
      "Tenor                    \n",
      "0      0.010000  0.040000\n",
      "1      0.015047  0.060755\n",
      "2      0.020037  0.070741\n",
      "5      0.024962  0.089391\n",
      "10     0.029666  0.104870\n",
      "Bond price on this curve (should be 1.0) 1.0\n"
     ]
    },
    {
     "data": {
      "application/vnd.plotly.v1+json": {
       "config": {
        "plotlyServerURL": "https://plot.ly"
       },
       "data": [
        {
         "hovertemplate": "variable=Low<br>Tenor=%{x}<br>value=%{y}<extra></extra>",
         "legendgroup": "Low",
         "line": {
          "color": "#1F77B4",
          "dash": "solid"
         },
         "mode": "lines",
         "name": "Low",
         "orientation": "v",
         "showlegend": true,
         "type": "scatter",
         "x": [
          0,
          1,
          2,
          5,
          10
         ],
         "xaxis": "x",
         "y": [
          0.01,
          0.015046945379879184,
          0.020037271956501863,
          0.02496164465853667,
          0.02966578889762229
         ],
         "yaxis": "y"
        },
        {
         "hovertemplate": "variable=High<br>Tenor=%{x}<br>value=%{y}<extra></extra>",
         "legendgroup": "High",
         "line": {
          "color": "#FF7F0E",
          "dash": "solid"
         },
         "mode": "lines",
         "name": "High",
         "orientation": "v",
         "showlegend": true,
         "type": "scatter",
         "x": [
          0,
          1,
          2,
          5,
          10
         ],
         "xaxis": "x",
         "y": [
          0.04,
          0.06075451743569899,
          0.07074077478783004,
          0.08939110631497336,
          0.10486999371124339
         ],
         "yaxis": "y"
        }
       ],
       "layout": {
        "legend": {
         "title": {
          "text": "variable"
         },
         "tracegroupgap": 0
        },
        "template": {
         "data": {
          "scatter": [
           {
            "type": "scatter"
           }
          ]
         }
        },
        "title": {
         "text": "Spot Rates"
        },
        "xaxis": {
         "anchor": "y",
         "domain": [
          0,
          1
         ],
         "title": {
          "text": "Tenor"
         }
        },
        "yaxis": {
         "anchor": "x",
         "domain": [
          0,
          1
         ],
         "title": {
          "text": "value"
         }
        }
       }
      },
      "text/html": "<div>                            <div id=\"031a002c-cb91-43f3-9a12-983ee374d443\" class=\"plotly-graph-div\" style=\"height:525px; width:100%;\"></div>            <script type=\"text/javascript\">                require([\"plotly\"], function(Plotly) {                    window.PLOTLYENV=window.PLOTLYENV || {};                                    if (document.getElementById(\"031a002c-cb91-43f3-9a12-983ee374d443\")) {                    Plotly.newPlot(                        \"031a002c-cb91-43f3-9a12-983ee374d443\",                        [{\"hovertemplate\": \"variable=Low<br>Tenor=%{x}<br>value=%{y}<extra></extra>\", \"legendgroup\": \"Low\", \"line\": {\"color\": \"#1F77B4\", \"dash\": \"solid\"}, \"mode\": \"lines\", \"name\": \"Low\", \"orientation\": \"v\", \"showlegend\": true, \"type\": \"scatter\", \"x\": [0, 1, 2, 5, 10], \"xaxis\": \"x\", \"y\": [0.01, 0.015046945379879184, 0.020037271956501863, 0.02496164465853667, 0.02966578889762229], \"yaxis\": \"y\"}, {\"hovertemplate\": \"variable=High<br>Tenor=%{x}<br>value=%{y}<extra></extra>\", \"legendgroup\": \"High\", \"line\": {\"color\": \"#FF7F0E\", \"dash\": \"solid\"}, \"mode\": \"lines\", \"name\": \"High\", \"orientation\": \"v\", \"showlegend\": true, \"type\": \"scatter\", \"x\": [0, 1, 2, 5, 10], \"xaxis\": \"x\", \"y\": [0.04, 0.06075451743569899, 0.07074077478783004, 0.08939110631497336, 0.10486999371124339], \"yaxis\": \"y\"}],                        {\"legend\": {\"title\": {\"text\": \"variable\"}, \"tracegroupgap\": 0}, \"template\": {\"data\": {\"scatter\": [{\"type\": \"scatter\"}]}}, \"title\": {\"text\": \"Spot Rates\"}, \"xaxis\": {\"anchor\": \"y\", \"domain\": [0.0, 1.0], \"title\": {\"text\": \"Tenor\"}}, \"yaxis\": {\"anchor\": \"x\", \"domain\": [0.0, 1.0], \"title\": {\"text\": \"value\"}}},                        {\"responsive\": true}                    ).then(function(){\n                            \nvar gd = document.getElementById('031a002c-cb91-43f3-9a12-983ee374d443');\nvar x = new MutationObserver(function (mutations, observer) {{\n        var display = window.getComputedStyle(gd).display;\n        if (!display || display === 'none') {{\n            console.log([gd, 'removed!']);\n            Plotly.purge(gd);\n            observer.disconnect();\n        }}\n}});\n\n// Listen for the removal of the full notebook cells\nvar notebookContainer = gd.closest('#notebook-container');\nif (notebookContainer) {{\n    x.observe(notebookContainer, {childList: true});\n}}\n\n// Listen for the clearing of the current output cell\nvar outputEl = gd.closest('.output');\nif (outputEl) {{\n    x.observe(outputEl, {childList: true});\n}}\n\n                        })                };                });            </script>        </div>"
     },
     "metadata": {},
     "output_type": "display_data"
    }
   ],
   "source": [
    "spot_rates = compute_spot_rates(rates)\n",
    "print(spot_rates)\n",
    "print(\"Bond price on this curve (should be 1.0) {}\".format(\n",
    "        bond_price(rates['High'], coupon_rate=spot_rates['High'][5], tenor=5)))\n",
    "\n",
    "sp = spot_rates.plot(title=\"Spot Rates\")\n",
    "sp.show()"
   ]
  },
  {
   "cell_type": "markdown",
   "metadata": {},
   "source": [
    "and now the differences"
   ]
  },
  {
   "cell_type": "code",
   "execution_count": null,
   "metadata": {
    "ExecuteTime": {
     "end_time": "2020-05-12T00:04:33.928841Z",
     "start_time": "2020-05-12T00:04:33.783293Z"
    }
   },
   "outputs": [
    {
     "data": {
      "application/vnd.plotly.v1+json": {
       "config": {
        "plotlyServerURL": "https://plot.ly"
       },
       "data": [
        {
         "hovertemplate": "variable=Low<br>Tenor=%{x}<br>value=%{y}<extra></extra>",
         "legendgroup": "Low",
         "line": {
          "color": "#1F77B4",
          "dash": "solid"
         },
         "mode": "lines",
         "name": "Low",
         "orientation": "v",
         "showlegend": true,
         "type": "scatter",
         "x": [
          0,
          1,
          2,
          5,
          10
         ],
         "xaxis": "x",
         "y": [
          0,
          0.000046945379879185026,
          0.00003727195650186227,
          -0.00003835534146333017,
          -0.00033421110237770793
         ],
         "yaxis": "y"
        },
        {
         "hovertemplate": "variable=High<br>Tenor=%{x}<br>value=%{y}<extra></extra>",
         "legendgroup": "High",
         "line": {
          "color": "#FF7F0E",
          "dash": "solid"
         },
         "mode": "lines",
         "name": "High",
         "orientation": "v",
         "showlegend": true,
         "type": "scatter",
         "x": [
          0,
          1,
          2,
          5,
          10
         ],
         "xaxis": "x",
         "y": [
          0,
          0.0007545174356989939,
          0.0007407747878300369,
          -0.0006088936850266319,
          -0.005130006288756608
         ],
         "yaxis": "y"
        }
       ],
       "layout": {
        "legend": {
         "title": {
          "text": "variable"
         },
         "tracegroupgap": 0
        },
        "template": {
         "data": {
          "scatter": [
           {
            "type": "scatter"
           }
          ]
         }
        },
        "title": {
         "text": "Zero to Spot Difference"
        },
        "xaxis": {
         "anchor": "y",
         "domain": [
          0,
          1
         ],
         "title": {
          "text": "Tenor"
         }
        },
        "yaxis": {
         "anchor": "x",
         "domain": [
          0,
          1
         ],
         "title": {
          "text": "value"
         }
        }
       }
      },
      "text/html": "<div>                            <div id=\"3c486d9c-90b1-4d33-a1c8-ac010a1eea4c\" class=\"plotly-graph-div\" style=\"height:525px; width:100%;\"></div>            <script type=\"text/javascript\">                require([\"plotly\"], function(Plotly) {                    window.PLOTLYENV=window.PLOTLYENV || {};                                    if (document.getElementById(\"3c486d9c-90b1-4d33-a1c8-ac010a1eea4c\")) {                    Plotly.newPlot(                        \"3c486d9c-90b1-4d33-a1c8-ac010a1eea4c\",                        [{\"hovertemplate\": \"variable=Low<br>Tenor=%{x}<br>value=%{y}<extra></extra>\", \"legendgroup\": \"Low\", \"line\": {\"color\": \"#1F77B4\", \"dash\": \"solid\"}, \"mode\": \"lines\", \"name\": \"Low\", \"orientation\": \"v\", \"showlegend\": true, \"type\": \"scatter\", \"x\": [0, 1, 2, 5, 10], \"xaxis\": \"x\", \"y\": [0.0, 4.6945379879185026e-05, 3.727195650186227e-05, -3.835534146333017e-05, -0.00033421110237770793], \"yaxis\": \"y\"}, {\"hovertemplate\": \"variable=High<br>Tenor=%{x}<br>value=%{y}<extra></extra>\", \"legendgroup\": \"High\", \"line\": {\"color\": \"#FF7F0E\", \"dash\": \"solid\"}, \"mode\": \"lines\", \"name\": \"High\", \"orientation\": \"v\", \"showlegend\": true, \"type\": \"scatter\", \"x\": [0, 1, 2, 5, 10], \"xaxis\": \"x\", \"y\": [0.0, 0.0007545174356989939, 0.0007407747878300369, -0.0006088936850266319, -0.005130006288756608], \"yaxis\": \"y\"}],                        {\"legend\": {\"title\": {\"text\": \"variable\"}, \"tracegroupgap\": 0}, \"template\": {\"data\": {\"scatter\": [{\"type\": \"scatter\"}]}}, \"title\": {\"text\": \"Zero to Spot Difference\"}, \"xaxis\": {\"anchor\": \"y\", \"domain\": [0.0, 1.0], \"title\": {\"text\": \"Tenor\"}}, \"yaxis\": {\"anchor\": \"x\", \"domain\": [0.0, 1.0], \"title\": {\"text\": \"value\"}}},                        {\"responsive\": true}                    ).then(function(){\n                            \nvar gd = document.getElementById('3c486d9c-90b1-4d33-a1c8-ac010a1eea4c');\nvar x = new MutationObserver(function (mutations, observer) {{\n        var display = window.getComputedStyle(gd).display;\n        if (!display || display === 'none') {{\n            console.log([gd, 'removed!']);\n            Plotly.purge(gd);\n            observer.disconnect();\n        }}\n}});\n\n// Listen for the removal of the full notebook cells\nvar notebookContainer = gd.closest('#notebook-container');\nif (notebookContainer) {{\n    x.observe(notebookContainer, {childList: true});\n}}\n\n// Listen for the clearing of the current output cell\nvar outputEl = gd.closest('.output');\nif (outputEl) {{\n    x.observe(outputEl, {childList: true});\n}}\n\n                        })                };                });            </script>        </div>"
     },
     "metadata": {},
     "output_type": "display_data"
    }
   ],
   "source": [
    "sp = (spot_rates-rates).plot(title=\"Zero to Spot Difference\")\n",
    "sp.show()"
   ]
  },
  {
   "cell_type": "markdown",
   "metadata": {},
   "source": [
    "## ZCB Rates From Spot"
   ]
  },
  {
   "cell_type": "markdown",
   "metadata": {},
   "source": [
    "To go from a spot curve to a ZCB curve, we have to compute the points one at a time.  The first one is the same as the zero rate.  Latter points are computed by bootstrapping, where we have zero rates for the previous tenor and just need to compute one new one at a time.  We proceed forward in tenors until the curve has been completely \"stripped\" in this manner."
   ]
  },
  {
   "cell_type": "code",
   "execution_count": 8,
   "metadata": {
    "ExecuteTime": {
     "end_time": "2020-05-12T00:05:44.394021Z",
     "start_time": "2020-05-12T00:05:44.382424Z"
    }
   },
   "outputs": [
    {
     "data": {
      "text/html": "<div>\n<style scoped>\n    .dataframe tbody tr th:only-of-type {\n        vertical-align: middle;\n    }\n\n    .dataframe tbody tr th {\n        vertical-align: top;\n    }\n\n    .dataframe thead th {\n        text-align: right;\n    }\n</style>\n<table border=\"1\" class=\"dataframe\">\n  <thead>\n    <tr style=\"text-align: right;\">\n      <th></th>\n      <th>Low</th>\n      <th>High</th>\n    </tr>\n    <tr>\n      <th>Tenor</th>\n      <th></th>\n      <th></th>\n    </tr>\n  </thead>\n  <tbody>\n    <tr>\n      <th>0</th>\n      <td>0.010000</td>\n      <td>0.040000</td>\n    </tr>\n    <tr>\n      <th>1</th>\n      <td>0.015000</td>\n      <td>0.059994</td>\n    </tr>\n    <tr>\n      <th>2</th>\n      <td>0.020000</td>\n      <td>0.069990</td>\n    </tr>\n    <tr>\n      <th>5</th>\n      <td>0.025001</td>\n      <td>0.090058</td>\n    </tr>\n    <tr>\n      <th>10</th>\n      <td>0.030019</td>\n      <td>0.111205</td>\n    </tr>\n  </tbody>\n</table>\n</div>",
      "text/plain": "            Low      High\nTenor                    \n0      0.010000  0.040000\n1      0.015000  0.059994\n2      0.020000  0.069990\n5      0.025001  0.090058\n10     0.030019  0.111205"
     },
     "execution_count": 8,
     "metadata": {},
     "output_type": "execute_result"
    }
   ],
   "source": [
    "def compute_zcb_curve(spot_rates_curve):\n",
    "    zcb_rates = spot_rates_curve.copy()\n",
    "    for curve in spot_rates_curve.columns:\n",
    "        spot = spot_rates_curve[curve]\n",
    "        for tenor, spot_rate in spot.iteritems():\n",
    "            if tenor>0.001:\n",
    "                times = np.arange(tenor-0.5, 0, step=-0.5)[::-1]\n",
    "                coupon_half_yr = 0.5*spot_rate\n",
    "                z = np.interp(times, zcb_rates[curve].index.values, zcb_rates[curve].values) # Linear interpolation\n",
    "                preceding_coupons_val = (coupon_half_yr*np.exp(-z*times)).sum()\n",
    "                zcb_rates[curve][tenor] = -np.log((1-preceding_coupons_val)/(1+coupon_half_yr))/tenor\n",
    "    return zcb_rates\n",
    "compute_zcb_curve(spot_rates)\n"
   ]
  },
  {
   "cell_type": "code",
   "execution_count": 10,
   "metadata": {},
   "outputs": [
    {
     "data": {
      "text/html": "<div>\n<style scoped>\n    .dataframe tbody tr th:only-of-type {\n        vertical-align: middle;\n    }\n\n    .dataframe tbody tr th {\n        vertical-align: top;\n    }\n\n    .dataframe thead th {\n        text-align: right;\n    }\n</style>\n<table border=\"1\" class=\"dataframe\">\n  <thead>\n    <tr style=\"text-align: right;\">\n      <th></th>\n      <th>Low</th>\n      <th>High</th>\n    </tr>\n    <tr>\n      <th>Tenor</th>\n      <th></th>\n      <th></th>\n    </tr>\n  </thead>\n  <tbody>\n    <tr>\n      <th>0</th>\n      <td>0.010000</td>\n      <td>0.040000</td>\n    </tr>\n    <tr>\n      <th>1</th>\n      <td>0.015047</td>\n      <td>0.060755</td>\n    </tr>\n    <tr>\n      <th>2</th>\n      <td>0.020037</td>\n      <td>0.070741</td>\n    </tr>\n    <tr>\n      <th>5</th>\n      <td>0.024962</td>\n      <td>0.089391</td>\n    </tr>\n    <tr>\n      <th>10</th>\n      <td>0.029666</td>\n      <td>0.104870</td>\n    </tr>\n  </tbody>\n</table>\n</div>",
      "text/plain": "            Low      High\nTenor                    \n0      0.010000  0.040000\n1      0.015047  0.060755\n2      0.020037  0.070741\n5      0.024962  0.089391\n10     0.029666  0.104870"
     },
     "execution_count": 10,
     "metadata": {},
     "output_type": "execute_result"
    }
   ],
   "source": [
    "spot_rates"
   ]
  },
  {
   "cell_type": "code",
   "execution_count": null,
   "metadata": {},
   "outputs": [],
   "source": []
  }
 ],
 "metadata": {
  "kernelspec": {
   "display_name": "Python 3.8.5 64-bit ('carry_trade-dUNJ7arw': pipenv)",
   "name": "python385jvsc74a57bd0aac822e7f1c7762932710762bae1fd10c6b98aa296e5c76897d2f6512bdd387c"
  },
  "language_info": {
   "codemirror_mode": {
    "name": "ipython",
    "version": 3
   },
   "file_extension": ".py",
   "mimetype": "text/x-python",
   "name": "python",
   "nbconvert_exporter": "python",
   "pygments_lexer": "ipython3",
   "version": "3.8.5"
  }
 },
 "nbformat": 4,
 "nbformat_minor": 1
}